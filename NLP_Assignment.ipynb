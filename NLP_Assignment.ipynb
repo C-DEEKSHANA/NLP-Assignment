{
  "nbformat": 4,
  "nbformat_minor": 0,
  "metadata": {
    "colab": {
      "provenance": []
    },
    "kernelspec": {
      "name": "python3",
      "display_name": "Python 3"
    },
    "language_info": {
      "name": "python"
    }
  },
  "cells": [
    {
      "cell_type": "code",
      "execution_count": 1,
      "metadata": {
        "colab": {
          "base_uri": "https://localhost:8080/"
        },
        "id": "Va3dOhSw9s0g",
        "outputId": "db5fd6a6-1b21-4adf-9211-26e2bd9ec79c"
      },
      "outputs": [
        {
          "output_type": "stream",
          "name": "stdout",
          "text": [
            "Requirement already satisfied: nltk in /usr/local/lib/python3.10/dist-packages (3.8.1)\n",
            "Requirement already satisfied: click in /usr/local/lib/python3.10/dist-packages (from nltk) (8.1.7)\n",
            "Requirement already satisfied: joblib in /usr/local/lib/python3.10/dist-packages (from nltk) (1.4.2)\n",
            "Requirement already satisfied: regex>=2021.8.3 in /usr/local/lib/python3.10/dist-packages (from nltk) (2024.5.15)\n",
            "Requirement already satisfied: tqdm in /usr/local/lib/python3.10/dist-packages (from nltk) (4.66.4)\n"
          ]
        }
      ],
      "source": [
        "pip install nltk"
      ]
    },
    {
      "cell_type": "code",
      "source": [
        "#UNIGRAM MODEL"
      ],
      "metadata": {
        "id": "3nHEltUw9xqH"
      },
      "execution_count": 2,
      "outputs": []
    },
    {
      "cell_type": "code",
      "source": [
        "import nltk\n",
        "from nltk.tokenize import word_tokenize\n",
        "from collections import Counter\n",
        "nltk.download('punkt')"
      ],
      "metadata": {
        "colab": {
          "base_uri": "https://localhost:8080/"
        },
        "id": "ujia7MGq96Yp",
        "outputId": "168868e0-afca-4b0f-a78a-0033a0e9163d"
      },
      "execution_count": 3,
      "outputs": [
        {
          "output_type": "stream",
          "name": "stderr",
          "text": [
            "[nltk_data] Downloading package punkt to /root/nltk_data...\n",
            "[nltk_data]   Unzipping tokenizers/punkt.zip.\n"
          ]
        },
        {
          "output_type": "execute_result",
          "data": {
            "text/plain": [
              "True"
            ]
          },
          "metadata": {},
          "execution_count": 3
        }
      ]
    },
    {
      "cell_type": "code",
      "source": [
        "def create_unigram_corpus(text):\n",
        "  tokens = word_tokenize(text.lower())\n",
        "  unigrams = Counter(tokens)\n",
        "  return unigrams\n",
        "text = \"\"\"Natural language processing (NLP) is a machine learning technology that gives computers the ability to interpret, manipulate, and comprehend human language.\"\"\"\n",
        "unigram_corpus = create_unigram_corpus(text)\n",
        "print(unigram_corpus)\n",
        "\n"
      ],
      "metadata": {
        "colab": {
          "base_uri": "https://localhost:8080/"
        },
        "id": "z1QE4dz_-PRy",
        "outputId": "3480db19-f111-4e3c-ce4e-77974f9a264d"
      },
      "execution_count": 6,
      "outputs": [
        {
          "output_type": "stream",
          "name": "stdout",
          "text": [
            "Counter({'language': 2, ',': 2, 'natural': 1, 'processing': 1, '(': 1, 'nlp': 1, ')': 1, 'is': 1, 'a': 1, 'machine': 1, 'learning': 1, 'technology': 1, 'that': 1, 'gives': 1, 'computers': 1, 'the': 1, 'ability': 1, 'to': 1, 'interpret': 1, 'manipulate': 1, 'and': 1, 'comprehend': 1, 'human': 1, '.': 1})\n"
          ]
        }
      ]
    },
    {
      "cell_type": "code",
      "source": [],
      "metadata": {
        "id": "QyMDDHEa-QU9"
      },
      "execution_count": 6,
      "outputs": []
    },
    {
      "cell_type": "code",
      "source": [
        "#BIGRAM MODEL\n"
      ],
      "metadata": {
        "id": "Ik8E9_yl-_P_"
      },
      "execution_count": 7,
      "outputs": []
    },
    {
      "cell_type": "code",
      "source": [
        "import nltk\n",
        "from collections import Counter\n",
        "from nltk.tokenize import word_tokenize\n",
        "from nltk.corpus import stopwords\n",
        "from nltk.util import bigrams\n",
        "nltk.download('punkt')\n",
        "nltk.download('stopwords')\n",
        "text_corpus = \"\"\"Natural language processing (NLP) is a machine learning technology that gives computers the ability to interpret, manipulate, and comprehend human language.\"\"\"\n",
        "tokens = word_tokenize(text_corpus)\n",
        "tokens = [token.lower() for token in tokens]\n",
        "stop_words = set(stopwords.words('english'))\n",
        "tokens = [token for token in tokens if token.isalpha() and token not in stop_words]\n",
        "bigrams_list = list(bigrams(tokens))\n",
        "bigram_counts = Counter(bigrams_list)\n",
        "print(bigram_counts)\n"
      ],
      "metadata": {
        "colab": {
          "base_uri": "https://localhost:8080/"
        },
        "id": "IKPSqWxK_BPc",
        "outputId": "e695cc60-a0d0-492e-ac6e-eba8edde25ee"
      },
      "execution_count": 11,
      "outputs": [
        {
          "output_type": "stream",
          "name": "stdout",
          "text": [
            "Counter({('natural', 'language'): 1, ('language', 'processing'): 1, ('processing', 'nlp'): 1, ('nlp', 'machine'): 1, ('machine', 'learning'): 1, ('learning', 'technology'): 1, ('technology', 'gives'): 1, ('gives', 'computers'): 1, ('computers', 'ability'): 1, ('ability', 'interpret'): 1, ('interpret', 'manipulate'): 1, ('manipulate', 'comprehend'): 1, ('comprehend', 'human'): 1, ('human', 'language'): 1})\n"
          ]
        },
        {
          "output_type": "stream",
          "name": "stderr",
          "text": [
            "[nltk_data] Downloading package punkt to /root/nltk_data...\n",
            "[nltk_data]   Package punkt is already up-to-date!\n",
            "[nltk_data] Downloading package stopwords to /root/nltk_data...\n",
            "[nltk_data]   Package stopwords is already up-to-date!\n"
          ]
        }
      ]
    },
    {
      "cell_type": "code",
      "source": [],
      "metadata": {
        "id": "iXLNe3OK_GS1"
      },
      "execution_count": null,
      "outputs": []
    },
    {
      "cell_type": "code",
      "source": [
        "#TRIGRAM MODEL"
      ],
      "metadata": {
        "id": "o99odJ3A_YC4"
      },
      "execution_count": 12,
      "outputs": []
    },
    {
      "cell_type": "code",
      "source": [
        "import nltk\n",
        "from nltk import ngrams\n",
        "from collections import Counter\n",
        "nltk.download('punkt')\n",
        "text = \"\"\"Natural language processing (NLP) is a machine learning technology that gives computers the ability to interpret, manipulate, and comprehend human language.\"\"\"\n",
        "tokens = nltk.word_tokenize(text)\n",
        "trigrams = list(ngrams(tokens, 3))\n",
        "trigram_freq = Counter(trigrams)\n",
        "for trigram, freq in trigram_freq.items():\n",
        " print(f\"{trigram}: {freq}\")"
      ],
      "metadata": {
        "colab": {
          "base_uri": "https://localhost:8080/"
        },
        "id": "jAosEuRM_ajW",
        "outputId": "053c0546-68ea-4163-9621-472e98b65103"
      },
      "execution_count": 15,
      "outputs": [
        {
          "output_type": "stream",
          "name": "stdout",
          "text": [
            "('Natural', 'language', 'processing'): 1\n",
            "('language', 'processing', '('): 1\n",
            "('processing', '(', 'NLP'): 1\n",
            "('(', 'NLP', ')'): 1\n",
            "('NLP', ')', 'is'): 1\n",
            "(')', 'is', 'a'): 1\n",
            "('is', 'a', 'machine'): 1\n",
            "('a', 'machine', 'learning'): 1\n",
            "('machine', 'learning', 'technology'): 1\n",
            "('learning', 'technology', 'that'): 1\n",
            "('technology', 'that', 'gives'): 1\n",
            "('that', 'gives', 'computers'): 1\n",
            "('gives', 'computers', 'the'): 1\n",
            "('computers', 'the', 'ability'): 1\n",
            "('the', 'ability', 'to'): 1\n",
            "('ability', 'to', 'interpret'): 1\n",
            "('to', 'interpret', ','): 1\n",
            "('interpret', ',', 'manipulate'): 1\n",
            "(',', 'manipulate', ','): 1\n",
            "('manipulate', ',', 'and'): 1\n",
            "(',', 'and', 'comprehend'): 1\n",
            "('and', 'comprehend', 'human'): 1\n",
            "('comprehend', 'human', 'language'): 1\n",
            "('human', 'language', '.'): 1\n"
          ]
        },
        {
          "output_type": "stream",
          "name": "stderr",
          "text": [
            "[nltk_data] Downloading package punkt to /root/nltk_data...\n",
            "[nltk_data]   Package punkt is already up-to-date!\n"
          ]
        }
      ]
    },
    {
      "cell_type": "code",
      "source": [],
      "metadata": {
        "id": "2xNeHMHf_f0g"
      },
      "execution_count": null,
      "outputs": []
    },
    {
      "cell_type": "code",
      "source": [
        " import nltk\n",
        "from nltk import ngrams\n",
        "from collections import Counter\n",
        "nltk.download('punkt')\n",
        "text = \"\"\"Natural language processing (NLP) is a machine learning technology that gives computers the ability to interpret, manipulate, and comprehend human language.\"\"\"\n",
        "tokens = nltk.word_tokenize(text)\n",
        "bigrams = list(ngrams(tokens, 2))\n",
        "bigram_freq = Counter(bigrams)\n",
        "word_freq = Counter(tokens)\n",
        "bigram_probabilities = {}\n",
        "for (w1, w2), count in bigram_freq.items():\n",
        "  prob = count / word_freq[w1]\n",
        "  bigram_probabilities[(w1, w2)] = prob\n",
        "for bigram, prob in bigram_probabilities.items():\n",
        "  print(f\"P({bigram[1]} | {bigram[0]}) = {prob:.4f}\")"
      ],
      "metadata": {
        "colab": {
          "base_uri": "https://localhost:8080/"
        },
        "id": "BKMMVAw5_3JI",
        "outputId": "490b2b92-8720-4822-ffae-d5f20af27e81"
      },
      "execution_count": 19,
      "outputs": [
        {
          "output_type": "stream",
          "name": "stdout",
          "text": [
            "P(language | Natural) = 1.0000\n",
            "P(processing | language) = 0.5000\n",
            "P(( | processing) = 1.0000\n",
            "P(NLP | () = 1.0000\n",
            "P() | NLP) = 1.0000\n",
            "P(is | )) = 1.0000\n",
            "P(a | is) = 1.0000\n",
            "P(machine | a) = 1.0000\n",
            "P(learning | machine) = 1.0000\n",
            "P(technology | learning) = 1.0000\n",
            "P(that | technology) = 1.0000\n",
            "P(gives | that) = 1.0000\n",
            "P(computers | gives) = 1.0000\n",
            "P(the | computers) = 1.0000\n",
            "P(ability | the) = 1.0000\n",
            "P(to | ability) = 1.0000\n",
            "P(interpret | to) = 1.0000\n",
            "P(, | interpret) = 1.0000\n",
            "P(manipulate | ,) = 0.5000\n",
            "P(, | manipulate) = 1.0000\n",
            "P(and | ,) = 0.5000\n",
            "P(comprehend | and) = 1.0000\n",
            "P(human | comprehend) = 1.0000\n",
            "P(language | human) = 1.0000\n",
            "P(. | language) = 0.5000\n"
          ]
        },
        {
          "output_type": "stream",
          "name": "stderr",
          "text": [
            "[nltk_data] Downloading package punkt to /root/nltk_data...\n",
            "[nltk_data]   Package punkt is already up-to-date!\n"
          ]
        }
      ]
    },
    {
      "cell_type": "code",
      "source": [],
      "metadata": {
        "id": "NAfHo6mxAAwK"
      },
      "execution_count": null,
      "outputs": []
    },
    {
      "cell_type": "code",
      "source": [
        "import nltk\n",
        "from nltk.util import ngrams\n",
        "from collections import defaultdict\n",
        "import random\n",
        "nltk.download('punkt')\n",
        "corpus = [\n",
        "\"Python is a great programming language\",\n",
        "\"Python is used for web development\",\n",
        "\"Data analysis, machine learning, and more\",\n",
        "\"Learning Python can be fun and rewarding\",\n",
        "\"Python is versatile and powerful\"\n",
        "]\n",
        "tokenized_corpus = [nltk.word_tokenize(sentence.lower()) for sentence in corpus]\n",
        "n = 2\n",
        "n_grams = [ngrams(sentence, n) for sentence in tokenized_corpus]\n",
        "\n",
        "next_word_dict = defaultdict(list)\n",
        "for sentence in n_grams:\n",
        "  for n_gram in sentence:\n",
        "    prefix, next_word = n_gram[0], n_gram[1]\n",
        "    next_word_dict[prefix].append(next_word)\n",
        "def predict_next_word(prefix):\n",
        "  prefix = prefix.lower()\n",
        "  if prefix in next_word_dict:\n",
        "    return random.choice(next_word_dict[prefix])\n",
        "  else:\n",
        "    return \"No prediction available.\"\n",
        "input_prefix = \"python is\"\n",
        "predicted_word = predict_next_word(input_prefix)\n",
        "print(f\"Next word prediction for '{input_prefix}': {predicted_word}\")"
      ],
      "metadata": {
        "colab": {
          "base_uri": "https://localhost:8080/"
        },
        "id": "6iP9-lNQCiN0",
        "outputId": "ddad6d35-cbdb-470b-dd59-ed50fa99d2a0"
      },
      "execution_count": 26,
      "outputs": [
        {
          "output_type": "stream",
          "name": "stdout",
          "text": [
            "Next word prediction for 'python is': No prediction available.\n"
          ]
        },
        {
          "output_type": "stream",
          "name": "stderr",
          "text": [
            "[nltk_data] Downloading package punkt to /root/nltk_data...\n",
            "[nltk_data]   Package punkt is already up-to-date!\n"
          ]
        }
      ]
    },
    {
      "cell_type": "code",
      "source": [],
      "metadata": {
        "id": "5ndUfM7KFXEI"
      },
      "execution_count": null,
      "outputs": []
    }
  ]
}